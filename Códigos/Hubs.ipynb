{
 "cells": [
  {
   "cell_type": "code",
   "execution_count": 1,
   "metadata": {},
   "outputs": [],
   "source": [
    "import networkx as nx\n",
    "from operator import itemgetter"
   ]
  },
  {
   "cell_type": "code",
   "execution_count": 2,
   "metadata": {},
   "outputs": [],
   "source": [
    "def  CM (G):\n",
    "    if len(G) == 0:\n",
    "        return 0\n",
    "    return max([len(n) for n in nx.connected_components(G)])"
   ]
  },
  {
   "cell_type": "code",
   "execution_count": 3,
   "metadata": {},
   "outputs": [],
   "source": [
    "def remocion(G,v):\n",
    "    G.graph['costo'] += G.degree(v)\n",
    "    G.remove_node(v)\n",
    "    print(str(G.graph['costo']), v, str(CM(G)))"
   ]
  },
  {
   "cell_type": "code",
   "execution_count": 4,
   "metadata": {},
   "outputs": [
    {
     "name": "stdout",
     "output_type": "stream",
     "text": [
      "Ingresa el nombre del documento con los datos:  Datos.txt\n"
     ]
    }
   ],
   "source": [
    "red = input(\"Ingresa el nombre del documento con los datos:  \") \n",
    "G = nx.read_edgelist(red)\n",
    "G.graph['costo'] = 0 #Costo de remociones indiciado en 0"
   ]
  },
  {
   "cell_type": "code",
   "execution_count": 5,
   "metadata": {},
   "outputs": [
    {
     "name": "stdout",
     "output_type": "stream",
     "text": [
      "Número de Hubs a remover:  27\n"
     ]
    }
   ],
   "source": [
    "muestra = input(\"Número de Hubs a remover:  \") \n",
    "muestra = int(muestra)"
   ]
  },
  {
   "cell_type": "code",
   "execution_count": 6,
   "metadata": {},
   "outputs": [],
   "source": [
    "Nodos = G.nodes()\n",
    "N_nodos = G.number_of_nodes()\n",
    "arreglo = sorted(G.degree, key=lambda x: x[1], reverse=True)\n",
    "cantidad = list(range(muestra))"
   ]
  },
  {
   "cell_type": "code",
   "execution_count": 7,
   "metadata": {},
   "outputs": [],
   "source": [
    "quitar=[]\n",
    "for i in cantidad:\n",
    "    quitar.append(arreglo[i][0])"
   ]
  },
  {
   "cell_type": "code",
   "execution_count": 8,
   "metadata": {},
   "outputs": [
    {
     "name": "stdout",
     "output_type": "stream",
     "text": [
      "C i T\n",
      "27 13 33\n",
      "53 21 32\n",
      "71 32 31\n",
      "87 10 30\n",
      "102 11 29\n",
      "116 31 28\n",
      "127 14 27\n",
      "138 33 26\n",
      "149 12 25\n",
      "159 15 24\n",
      "165 29 23\n",
      "172 23 22\n",
      "178 25 21\n",
      "183 26 16\n",
      "186 0 16\n",
      "188 1 16\n",
      "189 2 16\n",
      "189 24 16\n",
      "194 16 15\n",
      "199 17 13\n",
      "200 30 12\n",
      "206 27 11\n",
      "211 28 10\n",
      "211 22 10\n",
      "213 4 9\n",
      "216 5 5\n",
      "218 7 5\n"
     ]
    }
   ],
   "source": [
    "print(str('C'), str('i'), str('T'))\n",
    "for nodo in quitar:\n",
    "    remocion(G,nodo)"
   ]
  },
  {
   "cell_type": "code",
   "execution_count": null,
   "metadata": {},
   "outputs": [],
   "source": []
  }
 ],
 "metadata": {
  "kernelspec": {
   "display_name": "Python 3",
   "language": "python",
   "name": "python3"
  },
  "language_info": {
   "codemirror_mode": {
    "name": "ipython",
    "version": 3
   },
   "file_extension": ".py",
   "mimetype": "text/x-python",
   "name": "python",
   "nbconvert_exporter": "python",
   "pygments_lexer": "ipython3",
   "version": "3.7.4"
  }
 },
 "nbformat": 4,
 "nbformat_minor": 2
}
