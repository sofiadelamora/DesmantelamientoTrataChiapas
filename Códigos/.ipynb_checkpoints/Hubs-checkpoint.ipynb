{
 "cells": [
  {
   "cell_type": "code",
   "execution_count": 1,
   "metadata": {},
   "outputs": [],
   "source": [
    "import networkx as nx\n",
    "from operator import itemgetter"
   ]
  },
  {
   "cell_type": "code",
   "execution_count": 2,
   "metadata": {},
   "outputs": [],
   "source": [
    "def  CM (G):\n",
    "    if len(G) == 0:\n",
    "        return 0\n",
    "    return max([len(n) for n in nx.connected_components(G)])"
   ]
  },
  {
   "cell_type": "code",
   "execution_count": 3,
   "metadata": {},
   "outputs": [],
   "source": [
    "def remocion(G,v):\n",
    "    G.graph['costo'] += G.degree(v)\n",
    "    G.remove_node(v)\n",
    "    print(str(G.graph['costo']), v, str(CM(G)))"
   ]
  },
  {
   "cell_type": "code",
   "execution_count": 4,
   "metadata": {},
   "outputs": [
    {
     "name": "stdout",
     "output_type": "stream",
     "text": [
      "Ingresa el nombre del documento con los datos:  Datos.txt\n"
     ]
    }
   ],
   "source": [
    "red = input(\"Ingresa el nombre del documento con los datos:  \") \n",
    "G = nx.read_edgelist(red)\n",
    "G.graph['costo'] = 0 #Costo de remociones indiciado en 0"
   ]
  },
  {
   "cell_type": "code",
   "execution_count": 5,
   "metadata": {},
   "outputs": [
    {
     "name": "stdout",
     "output_type": "stream",
     "text": [
      "Número de Hubs a remover:  34\n"
     ]
    }
   ],
   "source": [
    "muestra = input(\"Número de Hubs a remover:  \") \n",
    "muestra = int(muestra)"
   ]
  },
  {
   "cell_type": "code",
   "execution_count": 6,
   "metadata": {},
   "outputs": [],
   "source": [
    "Nodos = G.nodes()\n",
    "N_nodos = G.number_of_nodes()\n",
    "arreglo = sorted(G.degree, key=lambda x: x[1], reverse=True)\n",
    "cantidad = list(range(muestra))"
   ]
  },
  {
   "cell_type": "code",
   "execution_count": 7,
   "metadata": {},
   "outputs": [],
   "source": [
    "quitar=[]\n",
    "for i in cantidad:\n",
    "    quitar.append(arreglo[i][0])"
   ]
  },
  {
   "cell_type": "code",
   "execution_count": 8,
   "metadata": {},
   "outputs": [
    {
     "name": "stdout",
     "output_type": "stream",
     "text": [
      "C i T\n",
      "27 13 33 0.375\n",
      "53 21 32 0.3467741935483871\n",
      "71 32 31 0.3311827956989247\n",
      "87 10 30 0.31724137931034485\n",
      "102 11 29 0.30295566502463056\n",
      "116 31 28 0.28835978835978837\n",
      "127 14 27 0.2792022792022792\n",
      "138 33 26 0.2676923076923077\n",
      "149 12 25 0.25333333333333335\n",
      "159 15 24 0.2391304347826087\n",
      "165 29 23 0.23715415019762845\n",
      "172 23 22 0.22943722943722944\n",
      "178 25 21 0.22380952380952382\n",
      "183 26 16 0.22105263157894736\n",
      "186 0 16 0.22807017543859648\n",
      "188 1 16 0.24183006535947713\n",
      "189 2 16 0.2647058823529412\n",
      "189 24 16 0.3\n",
      "194 16 15 0.29523809523809524\n",
      "199 17 13 0.2857142857142857\n",
      "200 30 12 0.32051282051282054\n",
      "206 27 11 0.2878787878787879\n",
      "211 28 10 0.2545454545454545\n",
      "211 22 10 0.3111111111111111\n",
      "213 4 9 0.3333333333333333\n",
      "216 5 5 0.32142857142857145\n",
      "218 7 5 0.3333333333333333\n",
      "218 3 5 0.4666666666666667\n",
      "218 6 5 0.7\n",
      "221 20 4 0.6666666666666666\n",
      "223 18 3 0.6666666666666666\n",
      "224 19 2 1.0\n",
      "225 8 1 0\n",
      "225 9 0 0\n"
     ]
    }
   ],
   "source": [
    "print(str('C'), str('i'), str('T'))\n",
    "for nodo in quitar:\n",
    "    remocion(G,nodo)"
   ]
  },
  {
   "cell_type": "code",
   "execution_count": null,
   "metadata": {},
   "outputs": [],
   "source": []
  }
 ],
 "metadata": {
  "kernelspec": {
   "display_name": "Python 3",
   "language": "python",
   "name": "python3"
  },
  "language_info": {
   "codemirror_mode": {
    "name": "ipython",
    "version": 3
   },
   "file_extension": ".py",
   "mimetype": "text/x-python",
   "name": "python",
   "nbconvert_exporter": "python",
   "pygments_lexer": "ipython3",
   "version": "3.7.4"
  }
 },
 "nbformat": 4,
 "nbformat_minor": 2
}
