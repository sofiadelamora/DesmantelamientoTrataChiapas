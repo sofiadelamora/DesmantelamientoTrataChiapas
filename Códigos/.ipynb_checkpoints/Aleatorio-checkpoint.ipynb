{
 "cells": [
  {
   "cell_type": "code",
   "execution_count": 1,
   "metadata": {},
   "outputs": [],
   "source": [
    "import networkx as nx\n",
    "import random"
   ]
  },
  {
   "cell_type": "code",
   "execution_count": 2,
   "metadata": {},
   "outputs": [],
   "source": [
    "def  CM (G):\n",
    "    if len(G) == 0:\n",
    "        return 0\n",
    "    return max([len(n) for n in nx.connected_components(G)])"
   ]
  },
  {
   "cell_type": "code",
   "execution_count": 3,
   "metadata": {},
   "outputs": [],
   "source": [
    "def remocion(G,v):\n",
    "    G.graph['costo'] += G.degree(v)\n",
    "    G.remove_node(v)\n",
    "    print(str(G.graph['costo']), v, str(CM(G)))"
   ]
  },
  {
   "cell_type": "code",
   "execution_count": 4,
   "metadata": {},
   "outputs": [
    {
     "name": "stdout",
     "output_type": "stream",
     "text": [
      "Ingresa el nombre del documento con los datos:  Datos.txt\n"
     ]
    }
   ],
   "source": [
    "red = input(\"Ingresa el nombre del documento con los datos:  \") \n",
    "G = nx.read_edgelist(red)\n",
    "G.graph['costo'] = 0 #Costo de remociones indiciado en 0"
   ]
  },
  {
   "cell_type": "code",
   "execution_count": 5,
   "metadata": {},
   "outputs": [
    {
     "name": "stdout",
     "output_type": "stream",
     "text": [
      "Número de nodos a remover:  2\n"
     ]
    }
   ],
   "source": [
    "muestra = input(\"Número de nodos a remover:  \") \n",
    "muestra = int(muestra)"
   ]
  },
  {
   "cell_type": "code",
   "execution_count": 6,
   "metadata": {},
   "outputs": [],
   "source": [
    "Nodos = G.nodes()\n",
    "N_nodos = G.number_of_nodes()\n",
    "remover = random.sample(Nodos, muestra)"
   ]
  },
  {
   "cell_type": "code",
   "execution_count": 7,
   "metadata": {},
   "outputs": [],
   "source": [
    "mis_grados = G.degree()\n"
   ]
  },
  {
   "cell_type": "code",
   "execution_count": 8,
   "metadata": {},
   "outputs": [
    {
     "name": "stdout",
     "output_type": "stream",
     "text": [
      "C i T\n",
      "17 33 33\n",
      "35 10 32\n"
     ]
    }
   ],
   "source": [
    "print(str('C'), str('i'), str('T'))\n",
    "for nodo in remover:\n",
    "    remocion(G,nodo)"
   ]
  },
  {
   "cell_type": "code",
   "execution_count": null,
   "metadata": {},
   "outputs": [],
   "source": []
  }
 ],
 "metadata": {
  "kernelspec": {
   "display_name": "Python 3",
   "language": "python",
   "name": "python3"
  },
  "language_info": {
   "codemirror_mode": {
    "name": "ipython",
    "version": 3
   },
   "file_extension": ".py",
   "mimetype": "text/x-python",
   "name": "python",
   "nbconvert_exporter": "python",
   "pygments_lexer": "ipython3",
   "version": "3.7.4"
  }
 },
 "nbformat": 4,
 "nbformat_minor": 2
}
