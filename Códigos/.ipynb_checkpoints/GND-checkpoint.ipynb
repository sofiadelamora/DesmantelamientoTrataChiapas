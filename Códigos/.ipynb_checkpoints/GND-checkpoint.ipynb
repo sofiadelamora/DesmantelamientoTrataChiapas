{
 "cells": [
  {
   "cell_type": "code",
   "execution_count": 1,
   "metadata": {},
   "outputs": [],
   "source": [
    "# Algoritmo Generalized Network Dismantling (GND)\n",
    "### Sofía De la Mora Tostado \n",
    "### Tesis para las licienciaturas de Ciencia Política y Matemáticas Aplicadas\n",
    "## Inputs\n",
    "### A.- matriz de adyacencia\n",
    "### W.- matriz de costo de remoción de nodos (con los grados de los nodos)\n",
    "### B.- matriz de adyacencia con costos (Aij(wi+wj-1))\n",
    "### L.- matriz laplaciana con costos\n",
    "### Ol.- operador laplaciano \n",
    "##Output\n",
    "### C.- Costo acumulado de remoción\n",
    "### i.- nodo removido\n",
    "### T .- Tamaño del componente conectado mayor"
   ]
  },
  {
   "cell_type": "code",
   "execution_count": 2,
   "metadata": {},
   "outputs": [],
   "source": [
    "import networkx as nx\n",
    "from networkx.algorithms.approximation import min_weighted_vertex_cover\n",
    "from scipy.sparse.linalg import eigsh\n",
    "from scipy.sparse import diags\n",
    "import numpy as np"
   ]
  },
  {
   "cell_type": "code",
   "execution_count": 3,
   "metadata": {},
   "outputs": [],
   "source": [
    "def  CM (G):\n",
    "    if len(G) == 0:\n",
    "        return 0\n",
    "    return max([len(n) for n in nx.connected_components(G)])"
   ]
  },
  {
   "cell_type": "code",
   "execution_count": 4,
   "metadata": {},
   "outputs": [],
   "source": [
    "def remocion(G,v):\n",
    "    G.graph['costo'] += G.degree(v)\n",
    "    G.remove_node(v)\n",
    "    print(str(G.graph['costo']), v, str(CM(G)))"
   ]
  },
  {
   "cell_type": "code",
   "execution_count": 5,
   "metadata": {
    "scrolled": true
   },
   "outputs": [
    {
     "name": "stdout",
     "output_type": "stream",
     "text": [
      "Ingresa el nombre del documento con los datos:  Datos.txt\n"
     ]
    }
   ],
   "source": [
    "red = input(\"Ingresa el nombre del documento con los datos:  \") "
   ]
  },
  {
   "cell_type": "code",
   "execution_count": 6,
   "metadata": {},
   "outputs": [],
   "source": [
    "G = nx.read_edgelist(red)\n",
    "G.graph['costo'] = 0 #Costo de remociones indiciado en 0"
   ]
  },
  {
   "cell_type": "code",
   "execution_count": 8,
   "metadata": {
    "scrolled": true
   },
   "outputs": [
    {
     "name": "stdout",
     "output_type": "stream",
     "text": [
      "C i T\n",
      "4 8 33\n",
      "12 20 31\n",
      "25 30 30\n",
      "39 29 29\n",
      "54 31 28\n",
      "76 13 27\n",
      "98 21 24\n",
      "106 16 23\n",
      "115 17 22\n",
      "125 15 21\n",
      "137 12 20\n",
      "149 11 19\n",
      "160 10 11\n",
      "165 22 10\n",
      "171 23 9\n",
      "179 0 8\n",
      "186 14 7\n",
      "192 1 7\n",
      "197 32 7\n",
      "201 33 7\n",
      "204 24 7\n",
      "206 2 7\n",
      "210 7 6\n",
      "213 6 5\n",
      "217 4 4\n",
      "220 5 3\n",
      "222 3 2\n"
     ]
    }
   ],
   "source": [
    "print(str('C'), str('i'), str('T'))\n",
    "while CM(G) > 2: #Mientras se cumpla que el componente mas grande sea mayor al umbral C\n",
    "    #Paso 1: construir la particion del componente mas grande\n",
    "    cmm = G.subgraph(max(nx.connected_components(G), key=len)) #Componente mayor\n",
    "    index =  {k:i for i,k in enumerate(list(cmm.nodes()))}\n",
    "    \n",
    "    #Matrices para obtener propiedades espectrales\n",
    "    A = nx.adjacency_matrix(cmm) #matriz de adyacencia del componente mas grande\n",
    "    W = diags([w for v, w in cmm.degree()]) #matriz de pesos basada en los grados\n",
    "    B = A * W + W * A - A \n",
    "    DB = diags(np.squeeze(np.asarray(B.sum(axis=1))),dtype=np.int32) #matriz para el problema de optimizacion\n",
    "    L = DB - B #matriz laplaciana del componente más grande\n",
    "    \n",
    "    #Obtener propiedades espectrales\n",
    "    itera = 100 *L.shape[0]\n",
    "    valores_propios, vectores_propios = eigsh(L.astype(np.float32),k=2,which='SM',maxiter= itera)\n",
    "    Fielder_vector = vectores_propios[:,1]\n",
    "    \n",
    "    #Paso 2: Subred G*\n",
    "    G_estrella = nx.Graph()\n",
    "    for i,j in cmm.edges(): #Agregamos a la subred las aristas uniendo a nodos con distintos signos\n",
    "        if Fielder_vector[index[i]]*Fielder_vector[index[j]] <= 0:\n",
    "            G_estrella.add_edge(i,j)\n",
    "    \n",
    "    #Paso 3: Cobertura de vértices ponderados\n",
    "    for v in G_estrella.nodes(): #Costo de remocion\n",
    "        G_estrella.nodes[v][\"weight\"] = 1.0 / G_estrella.degree(v)\n",
    "\n",
    "    cobertura = list(min_weighted_vertex_cover(G_estrella, weight='weight')) \n",
    "    cobertura.sort(key=cmm.degree())\n",
    "    \n",
    "    #Paso 4: Quitar los nodos en la cubierta de la red\n",
    "    for nodo in cobertura:\n",
    "        remocion(G,nodo)\n"
   ]
  },
  {
   "cell_type": "code",
   "execution_count": 9,
   "metadata": {},
   "outputs": [
    {
     "name": "stdout",
     "output_type": "stream",
     "text": [
      "Nodos que se pueden remover trivialmente\n",
      "Nodos que quedan con una sola conexión\n",
      "C i T\n",
      "223 26 2\n",
      "224 28 2\n",
      "225 19 1\n",
      "Nodos que quedan islados\n",
      "C i T\n",
      "225 25 1\n",
      "225 27 1\n",
      "225 9 1\n",
      "225 18 0\n"
     ]
    }
   ],
   "source": [
    "#Paso 5: Borrar el resto de los nodos no necesarios\n",
    "print(str('Nodos que se pueden remover trivialmente'))\n",
    "print(str('Nodos que quedan con una sola conexión'))\n",
    "print(str('C'), str('i'), str('T'))\n",
    "for nodo in [nodo for i,nodo in G.edges()]: #nodos con una sola conexión\n",
    "    remocion(G,nodo)\n",
    "print(str('Nodos que quedan islados'))\n",
    "print(str('C'), str('i'), str('T'))\n",
    "for nodo in list(G.nodes()): #quitar nodos aislados\n",
    "    remocion(G,nodo)"
   ]
  },
  {
   "cell_type": "code",
   "execution_count": null,
   "metadata": {},
   "outputs": [],
   "source": []
  },
  {
   "cell_type": "code",
   "execution_count": null,
   "metadata": {},
   "outputs": [],
   "source": []
  },
  {
   "cell_type": "code",
   "execution_count": null,
   "metadata": {},
   "outputs": [],
   "source": []
  }
 ],
 "metadata": {
  "kernelspec": {
   "display_name": "Python 3",
   "language": "python",
   "name": "python3"
  },
  "language_info": {
   "codemirror_mode": {
    "name": "ipython",
    "version": 3
   },
   "file_extension": ".py",
   "mimetype": "text/x-python",
   "name": "python",
   "nbconvert_exporter": "python",
   "pygments_lexer": "ipython3",
   "version": "3.7.4"
  }
 },
 "nbformat": 4,
 "nbformat_minor": 2
}
