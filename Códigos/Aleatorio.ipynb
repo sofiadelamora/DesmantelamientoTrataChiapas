{
 "cells": [
  {
   "cell_type": "code",
   "execution_count": 1,
   "metadata": {},
   "outputs": [],
   "source": [
    "import networkx as nx\n",
    "import random"
   ]
  },
  {
   "cell_type": "code",
   "execution_count": 2,
   "metadata": {},
   "outputs": [],
   "source": [
    "def  CM (G):\n",
    "    if len(G) == 0:\n",
    "        return 0\n",
    "    return max([len(n) for n in nx.connected_components(G)])"
   ]
  },
  {
   "cell_type": "code",
   "execution_count": 3,
   "metadata": {},
   "outputs": [],
   "source": [
    "def remocion(G,v):\n",
    "    G.graph['costo'] += G.degree(v)\n",
    "    G.remove_node(v)\n",
    "    print(str(G.graph['costo']), v, str(CM(G)))"
   ]
  },
  {
   "cell_type": "code",
   "execution_count": 4,
   "metadata": {},
   "outputs": [
    {
     "name": "stdout",
     "output_type": "stream",
     "text": [
      "Ingresa el nombre del documento con los datos:  Datos.txt\n"
     ]
    }
   ],
   "source": [
    "red = input(\"Ingresa el nombre del documento con los datos:  \") \n",
    "G = nx.read_edgelist(red)\n",
    "G.graph['costo'] = 0 #Costo de remociones indiciado en 0"
   ]
  },
  {
   "cell_type": "code",
   "execution_count": 5,
   "metadata": {},
   "outputs": [
    {
     "name": "stdout",
     "output_type": "stream",
     "text": [
      "Número de nodos a remover:  34\n"
     ]
    }
   ],
   "source": [
    "muestra = input(\"Número de nodos a remover:  \") \n",
    "muestra = int(muestra)"
   ]
  },
  {
   "cell_type": "code",
   "execution_count": 6,
   "metadata": {},
   "outputs": [],
   "source": [
    "Nodos = G.nodes()\n",
    "N_nodos = G.number_of_nodes()\n",
    "remover = random.sample(Nodos, muestra)"
   ]
  },
  {
   "cell_type": "code",
   "execution_count": 7,
   "metadata": {},
   "outputs": [],
   "source": [
    "mis_grados = G.degree()\n"
   ]
  },
  {
   "cell_type": "code",
   "execution_count": 8,
   "metadata": {},
   "outputs": [
    {
     "name": "stdout",
     "output_type": "stream",
     "text": [
      "C i T\n",
      "9 7 33 0.4090909090909091\n",
      "17 20 32 0.41935483870967744\n",
      "30 30 31 0.41935483870967744\n",
      "54 13 30 0.3931034482758621\n",
      "59 18 29 0.4088669950738916\n",
      "67 4 28 0.41798941798941797\n",
      "80 25 27 0.4131054131054131\n",
      "96 10 26 0.39692307692307693\n",
      "104 28 25 0.4033333333333333\n",
      "114 2 24 0.40217391304347827\n",
      "128 11 23 0.383399209486166\n",
      "132 19 20 0.4025974025974026\n",
      "133 8 20 0.4380952380952381\n",
      "144 12 19 0.4263157894736842\n",
      "160 21 18 0.38011695906432746\n",
      "169 14 17 0.3660130718954248\n",
      "177 31 16 0.35294117647058826\n",
      "183 0 15 0.35\n",
      "190 15 14 0.3333333333333333\n",
      "196 22 13 0.31868131868131866\n",
      "200 29 12 0.32051282051282054\n",
      "200 9 12 0.3787878787878788\n",
      "206 33 11 0.34545454545454546\n",
      "210 1 10 0.3333333333333333\n",
      "213 23 9 0.3333333333333333\n",
      "215 16 8 0.35714285714285715\n",
      "217 26 7 0.38095238095238093\n",
      "219 17 4 0.4\n",
      "222 5 3 0.3\n",
      "223 6 2 0.3333333333333333\n",
      "224 24 2 0.3333333333333333\n",
      "225 27 1 0\n",
      "225 32 1 0\n",
      "225 3 0 0\n"
     ]
    }
   ],
   "source": [
    "print(str('C'), str('i'), str('T'))\n",
    "for nodo in remover:\n",
    "    remocion(G,nodo)"
   ]
  },
  {
   "cell_type": "code",
   "execution_count": null,
   "metadata": {},
   "outputs": [],
   "source": []
  }
 ],
 "metadata": {
  "kernelspec": {
   "display_name": "Python 3",
   "language": "python",
   "name": "python3"
  },
  "language_info": {
   "codemirror_mode": {
    "name": "ipython",
    "version": 3
   },
   "file_extension": ".py",
   "mimetype": "text/x-python",
   "name": "python",
   "nbconvert_exporter": "python",
   "pygments_lexer": "ipython3",
   "version": "3.7.4"
  }
 },
 "nbformat": 4,
 "nbformat_minor": 2
}
