{
 "cells": [
  {
   "cell_type": "code",
   "execution_count": 1,
   "metadata": {},
   "outputs": [],
   "source": [
    "import networkx as nx\n",
    "import random"
   ]
  },
  {
   "cell_type": "code",
   "execution_count": 2,
   "metadata": {},
   "outputs": [],
   "source": [
    "def  CM (G):\n",
    "    if len(G) == 0:\n",
    "        return 0\n",
    "    return max([len(n) for n in nx.connected_components(G)])"
   ]
  },
  {
   "cell_type": "code",
   "execution_count": 3,
   "metadata": {},
   "outputs": [],
   "source": [
    "def remocion(G,v):\n",
    "    G.graph['costo'] += G.degree(v)\n",
    "    G.remove_node(v)\n",
    "    print(str(G.graph['costo']), v, str(CM(G)))"
   ]
  },
  {
   "cell_type": "code",
   "execution_count": 4,
   "metadata": {},
   "outputs": [
    {
     "name": "stdout",
     "output_type": "stream",
     "text": [
      "Ingresa el nombre del documento con los datos:  Datos.txt\n"
     ]
    }
   ],
   "source": [
    "red = input(\"Ingresa el nombre del documento con los datos:  \") \n",
    "G = nx.read_edgelist(red)\n",
    "G.graph['costo'] = 0 #Costo de remociones indiciado en 0"
   ]
  },
  {
   "cell_type": "code",
   "execution_count": 5,
   "metadata": {},
   "outputs": [
    {
     "name": "stdout",
     "output_type": "stream",
     "text": [
      "Número de nodos a remover:  27\n"
     ]
    }
   ],
   "source": [
    "muestra = input(\"Número de nodos a remover:  \") \n",
    "muestra = int(muestra)"
   ]
  },
  {
   "cell_type": "code",
   "execution_count": 6,
   "metadata": {},
   "outputs": [],
   "source": [
    "Nodos = G.nodes()\n",
    "N_nodos = G.number_of_nodes()\n",
    "remover = random.sample(Nodos, muestra)"
   ]
  },
  {
   "cell_type": "code",
   "execution_count": 7,
   "metadata": {},
   "outputs": [],
   "source": [
    "mis_grados = G.degree()\n"
   ]
  },
  {
   "cell_type": "code",
   "execution_count": 8,
   "metadata": {},
   "outputs": [
    {
     "name": "stdout",
     "output_type": "stream",
     "text": [
      "C i T\n",
      "9 5 33\n",
      "22 0 32\n",
      "35 25 31\n",
      "49 23 30\n",
      "51 9 29\n",
      "59 4 28\n",
      "74 15 27\n",
      "79 3 26\n",
      "102 21 25\n",
      "115 29 24\n",
      "127 33 23\n",
      "132 22 22\n",
      "135 8 21\n",
      "141 28 20\n",
      "145 20 19\n",
      "153 1 18\n",
      "164 11 17\n",
      "169 7 16\n",
      "176 26 15\n",
      "179 27 14\n",
      "182 19 13\n",
      "190 14 12\n",
      "192 18 11\n",
      "197 16 10\n",
      "203 12 9\n",
      "210 32 8\n",
      "214 17 7\n"
     ]
    }
   ],
   "source": [
    "print(str('C'), str('i'), str('T'))\n",
    "for nodo in remover:\n",
    "    remocion(G,nodo)"
   ]
  },
  {
   "cell_type": "code",
   "execution_count": null,
   "metadata": {},
   "outputs": [],
   "source": []
  }
 ],
 "metadata": {
  "kernelspec": {
   "display_name": "Python 3",
   "language": "python",
   "name": "python3"
  },
  "language_info": {
   "codemirror_mode": {
    "name": "ipython",
    "version": 3
   },
   "file_extension": ".py",
   "mimetype": "text/x-python",
   "name": "python",
   "nbconvert_exporter": "python",
   "pygments_lexer": "ipython3",
   "version": "3.7.4"
  }
 },
 "nbformat": 4,
 "nbformat_minor": 2
}
