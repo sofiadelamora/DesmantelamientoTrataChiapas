{
 "cells": [
  {
   "cell_type": "code",
   "execution_count": 5,
   "metadata": {},
   "outputs": [],
   "source": [
    "import networkx as nx\n",
    "from networkx.algorithms.approximation import min_weighted_vertex_cover\n",
    "from scipy.sparse.linalg import eigsh\n",
    "from scipy.sparse.linalg.eigen.arpack.arpack import ArpackNoConvergence\n",
    "from scipy.sparse import diags\n",
    "import numpy as np\n",
    "from numpy.random import shuffle"
   ]
  },
  {
   "cell_type": "code",
   "execution_count": 6,
   "metadata": {},
   "outputs": [],
   "source": [
    "def lcc (G):\n",
    "\n",
    "    if len(G) == 0:\n",
    "        return 0\n",
    "\n",
    "    return max([len(c) for c in nx.connected_components(G)])"
   ]
  },
  {
   "cell_type": "code",
   "execution_count": 7,
   "metadata": {},
   "outputs": [],
   "source": [
    "def remove_and_print_update (G,v):\n",
    "\n",
    "    if G.graph['cost type'] == 'degree':\n",
    "        G.graph['cost sum'] += G.degree(v)\n",
    "    else:\n",
    "        G.graph['cost sum'] += 1\n",
    "    G.remove_node(v)\n",
    "    print(str(G.graph['cost sum']), v, str(lcc(G)))"
   ]
  },
  {
   "cell_type": "code",
   "execution_count": 8,
   "metadata": {},
   "outputs": [
    {
     "ename": "FileNotFoundError",
     "evalue": "[Errno 2] No such file or directory: '-f'",
     "output_type": "error",
     "traceback": [
      "\u001b[1;31m---------------------------------------------------------------------------\u001b[0m",
      "\u001b[1;31mFileNotFoundError\u001b[0m                         Traceback (most recent call last)",
      "\u001b[1;32m<ipython-input-8-b0ca2b8f014c>\u001b[0m in \u001b[0;36m<module>\u001b[1;34m\u001b[0m\n\u001b[0;32m      6\u001b[0m         \u001b[0mexit\u001b[0m\u001b[1;33m(\u001b[0m\u001b[1;36m1\u001b[0m\u001b[1;33m)\u001b[0m\u001b[1;33m\u001b[0m\u001b[1;33m\u001b[0m\u001b[0m\n\u001b[0;32m      7\u001b[0m \u001b[1;33m\u001b[0m\u001b[0m\n\u001b[1;32m----> 8\u001b[1;33m     \u001b[0mG\u001b[0m \u001b[1;33m=\u001b[0m \u001b[0mnx\u001b[0m\u001b[1;33m.\u001b[0m\u001b[0mread_edgelist\u001b[0m\u001b[1;33m(\u001b[0m\u001b[0margv\u001b[0m\u001b[1;33m[\u001b[0m\u001b[1;36m1\u001b[0m\u001b[1;33m]\u001b[0m\u001b[1;33m)\u001b[0m\u001b[1;33m\u001b[0m\u001b[1;33m\u001b[0m\u001b[0m\n\u001b[0m\u001b[0;32m      9\u001b[0m     \u001b[0mG\u001b[0m\u001b[1;33m.\u001b[0m\u001b[0mgraph\u001b[0m\u001b[1;33m[\u001b[0m\u001b[1;34m'cost type'\u001b[0m\u001b[1;33m]\u001b[0m \u001b[1;33m=\u001b[0m \u001b[0margv\u001b[0m\u001b[1;33m[\u001b[0m\u001b[1;36m2\u001b[0m\u001b[1;33m]\u001b[0m\u001b[1;33m\u001b[0m\u001b[1;33m\u001b[0m\u001b[0m\n\u001b[0;32m     10\u001b[0m     \u001b[0mG\u001b[0m\u001b[1;33m.\u001b[0m\u001b[0mgraph\u001b[0m\u001b[1;33m[\u001b[0m\u001b[1;34m'cost sum'\u001b[0m\u001b[1;33m]\u001b[0m \u001b[1;33m=\u001b[0m \u001b[1;36m0\u001b[0m\u001b[1;33m\u001b[0m\u001b[1;33m\u001b[0m\u001b[0m\n",
      "\u001b[1;32m<C:\\Users\\DELL\\Anaconda3\\lib\\site-packages\\decorator.py:decorator-gen-710>\u001b[0m in \u001b[0;36mread_edgelist\u001b[1;34m(path, comments, delimiter, create_using, nodetype, data, edgetype, encoding)\u001b[0m\n",
      "\u001b[1;32m~\\Anaconda3\\lib\\site-packages\\networkx\\utils\\decorators.py\u001b[0m in \u001b[0;36m_open_file\u001b[1;34m(func_to_be_decorated, *args, **kwargs)\u001b[0m\n\u001b[0;32m    212\u001b[0m         \u001b[1;32mif\u001b[0m \u001b[0mis_string_like\u001b[0m\u001b[1;33m(\u001b[0m\u001b[0mpath\u001b[0m\u001b[1;33m)\u001b[0m\u001b[1;33m:\u001b[0m\u001b[1;33m\u001b[0m\u001b[1;33m\u001b[0m\u001b[0m\n\u001b[0;32m    213\u001b[0m             \u001b[0mext\u001b[0m \u001b[1;33m=\u001b[0m \u001b[0msplitext\u001b[0m\u001b[1;33m(\u001b[0m\u001b[0mpath\u001b[0m\u001b[1;33m)\u001b[0m\u001b[1;33m[\u001b[0m\u001b[1;36m1\u001b[0m\u001b[1;33m]\u001b[0m\u001b[1;33m\u001b[0m\u001b[1;33m\u001b[0m\u001b[0m\n\u001b[1;32m--> 214\u001b[1;33m             \u001b[0mfobj\u001b[0m \u001b[1;33m=\u001b[0m \u001b[0m_dispatch_dict\u001b[0m\u001b[1;33m[\u001b[0m\u001b[0mext\u001b[0m\u001b[1;33m]\u001b[0m\u001b[1;33m(\u001b[0m\u001b[0mpath\u001b[0m\u001b[1;33m,\u001b[0m \u001b[0mmode\u001b[0m\u001b[1;33m=\u001b[0m\u001b[0mmode\u001b[0m\u001b[1;33m)\u001b[0m\u001b[1;33m\u001b[0m\u001b[1;33m\u001b[0m\u001b[0m\n\u001b[0m\u001b[0;32m    215\u001b[0m             \u001b[0mclose_fobj\u001b[0m \u001b[1;33m=\u001b[0m \u001b[1;32mTrue\u001b[0m\u001b[1;33m\u001b[0m\u001b[1;33m\u001b[0m\u001b[0m\n\u001b[0;32m    216\u001b[0m         \u001b[1;32melif\u001b[0m \u001b[0mhasattr\u001b[0m\u001b[1;33m(\u001b[0m\u001b[0mpath\u001b[0m\u001b[1;33m,\u001b[0m \u001b[1;34m'read'\u001b[0m\u001b[1;33m)\u001b[0m\u001b[1;33m:\u001b[0m\u001b[1;33m\u001b[0m\u001b[1;33m\u001b[0m\u001b[0m\n",
      "\u001b[1;31mFileNotFoundError\u001b[0m: [Errno 2] No such file or directory: '-f'"
     ]
    }
   ],
   "source": [
    "if __name__ == \"__main__\":\n",
    "\n",
    "    # Read the input\n",
    "    if len(argv) != 3:\n",
    "        print('usage: python gnd.py [adj file] [weight (degree or unit)]')\n",
    "        exit(1)\n",
    "\n",
    "    G = nx.read_edgelist(argv[1])\n",
    "    G.graph['cost type'] = argv[2]\n",
    "    G.graph['cost sum'] = 0\n",
    "\n",
    "    if G.graph['cost type'] not in ['degree','unit']:\n",
    "        print('usage: python gnd.py [adj file] [weight (degree or unit)]')\n",
    "        exit(1)\n",
    "\n",
    "    print('0 -', str(lcc(G))) # output before any nodes are deleted\n",
    "\n",
    "    while lcc(G) > 2:\n",
    "        # Step 1. === Construct the spectral partition of the largest connected component (LCC). ===\n",
    "        LCC = G.subgraph(max(nx.connected_components(G), key=len)) # Get the LCC.\n",
    "        ii = {v:i for i,v in enumerate(list(LCC.nodes()))} # Store the node indices in the same order as LCC.\n",
    "\n",
    "        # Construct the matrix. Notations following the paper. (We calculate the 2nd smallest eigenpair\n",
    "        # directly (by the solver) rather than \"manually\" shifting the eigenvalues and calcuate the 2nd\n",
    "        # largest as mentioned in the paper.)\n",
    "        if G.graph['cost type'] == 'degree':\n",
    "            W = diags([d for v,d in LCC.degree()],dtype=np.int32) \n",
    "            A = nx.adjacency_matrix(LCC)\n",
    "            B = A * W + W * A - A\n",
    "            DB = diags(np.squeeze(np.asarray(B.sum(axis=1))),dtype=np.int32)\n",
    "            L = DB - B\n",
    "        else:\n",
    "            L = nx.laplacian_matrix(LCC)\n",
    "\n",
    "        # Get the eigenvectors.\n",
    "        maxiter = 1000 * L.shape[0] # when to give up, 100 times more generous than default\n",
    "        try:\n",
    "            eigenvalues, eigenvectors = eigsh(L.astype(np.float32),k=2,which='SM',maxiter=maxiter)\n",
    "        except ArpackNoConvergence as err:\n",
    "            print(stderr, err)\n",
    "            exit(1)\n",
    "\n",
    "        Fiedler = eigenvectors[:,1] # not really Fiedler vector, but corresponding to it\n",
    "\n",
    "        # Step 2. === Construct a subgraph of nodes at the border of the partition. ===\n",
    "        H = nx.Graph() \n",
    "        for u,v in LCC.edges():\n",
    "            # Adding edges between nodes of different sign. (Note that just < (not <=) would mis-classify\n",
    "            # nodes in symmetric graphs like 2 in 1-2-3.)\n",
    "            if Fiedler[ii[u]] * Fiedler[ii[v]] <= 0.0: \n",
    "                H.add_edge(u,v)\n",
    "\n",
    "        # Step 3. === Construct a minimal vertex cover of H w.r.t. degree in G / degree in H. ===\n",
    "        for v in H.nodes(): # calculate weight\n",
    "            H.nodes[v]['weight'] = 1.0 / H.degree(v)\n",
    "            if G.graph['cost type'] == 'degree':\n",
    "                H.nodes[v]['weight'] *= LCC.degree(v)\n",
    "\n",
    "        cover = list(min_weighted_vertex_cover(H, weight='weight')) # get the vertex cover\n",
    "        shuffle(cover) # shuffle away dependence on input\n",
    "\n",
    "        # Uncomment the following lines to follow the original code, but not the paper:\n",
    "        #if G.graph['cost type'] == 'degree': \n",
    "        #\tcover.sort(key=LCC.degree())\n",
    "        #else:\n",
    "        #\tcover.sort(key=LCC.degree(),reverse=True)\n",
    "\n",
    "        # Step 4. === Delete the nodes in cover. ===\n",
    "        for v in cover:\n",
    "            remove_and_print_update(G,v)\n",
    "\n",
    "    # Step 5. === Deleting the (trivial) rest of the nodes ===\n",
    "    for v in [v for u,v in G.edges()]: # half of the degree = 1 nodes\n",
    "        remove_and_print_update(G,v)\n",
    "    for v in list(G.nodes()): # the rest are all isolates\n",
    "        remove_and_print_update(G,v)\n"
   ]
  },
  {
   "cell_type": "code",
   "execution_count": null,
   "metadata": {},
   "outputs": [],
   "source": []
  }
 ],
 "metadata": {
  "kernelspec": {
   "display_name": "Python 3",
   "language": "python",
   "name": "python3"
  },
  "language_info": {
   "codemirror_mode": {
    "name": "ipython",
    "version": 3
   },
   "file_extension": ".py",
   "mimetype": "text/x-python",
   "name": "python",
   "nbconvert_exporter": "python",
   "pygments_lexer": "ipython3",
   "version": "3.7.4"
  }
 },
 "nbformat": 4,
 "nbformat_minor": 2
}
