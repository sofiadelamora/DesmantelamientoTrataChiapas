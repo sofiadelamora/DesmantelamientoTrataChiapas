{
 "cells": [
  {
   "cell_type": "code",
   "execution_count": null,
   "metadata": {},
   "outputs": [],
   "source": [
    "# Algoritmo Generalized Network Dismantling (GND)\n",
    "### Sofía De la Mora Tostado \n",
    "### Tesis para las licienciaturas de Ciencia Política y Matemáticas Aplicadas\n",
    "## Inputs\n",
    "### A.- matriz de adyacencia\n",
    "### W.- matriz de costo de remoción de nodos\n",
    "### B.- matriz de adyacencia con costos (Aij(wi+wj-1))\n",
    "### L.- matriz laplaciana con costos\n",
    "## Ol.- operador laplaciano \n",
    "##Output"
   ]
  },
  {
   "cell_type": "code",
   "execution_count": 1,
   "metadata": {},
   "outputs": [],
   "source": [
    "from sys import argv, stderr\n",
    "import networkx as nx\n",
    "from networkx.algorithms.approximation import min_weighted_vertex_cover\n",
    "from scipy.sparse.linalg import eigsh\n",
    "from scipy.sparse.linalg.eigen.arpack.arpack import ArpackNoConvergence\n",
    "from scipy.sparse import diags\n",
    "import numpy as np\n",
    "from numpy.random import shuffle"
   ]
  },
  {
   "cell_type": "code",
   "execution_count": 2,
   "metadata": {},
   "outputs": [],
   "source": [
    "# caluclating the size of the largest connected component\n",
    "\n",
    "def lcc (G):\n",
    "\n",
    "    if len(G) == 0:\n",
    "        return 0\n",
    "\n",
    "    return max([len(c) for c in nx.connected_components(G)])"
   ]
  },
  {
   "cell_type": "code",
   "execution_count": 4,
   "metadata": {},
   "outputs": [
    {
     "ename": "SyntaxError",
     "evalue": "invalid syntax (<ipython-input-4-3bf06d81f60d>, line 10)",
     "output_type": "error",
     "traceback": [
      "\u001b[1;36m  File \u001b[1;32m\"<ipython-input-4-3bf06d81f60d>\"\u001b[1;36m, line \u001b[1;32m10\u001b[0m\n\u001b[1;33m    print str(G.graph['cost sum']), v, str(lcc(G))\u001b[0m\n\u001b[1;37m            ^\u001b[0m\n\u001b[1;31mSyntaxError\u001b[0m\u001b[1;31m:\u001b[0m invalid syntax\n"
     ]
    }
   ],
   "source": [
    "# removing a node and printing the update\n",
    "\n",
    "def remove_and_print_update (G,v):\n",
    "\n",
    "    if G.graph['cost type'] == 'degree':\n",
    "        G.graph['cost sum'] += G.degree(v)\n",
    "    else:\n",
    "        G.graph['cost sum'] += 1\n",
    "    G.remove_node(v)\n",
    "    print str(G.graph['cost sum']), v, str(lcc(G))"
   ]
  },
  {
   "cell_type": "code",
   "execution_count": null,
   "metadata": {},
   "outputs": [],
   "source": []
  }
 ],
 "metadata": {
  "kernelspec": {
   "display_name": "Python 3",
   "language": "python",
   "name": "python3"
  },
  "language_info": {
   "codemirror_mode": {
    "name": "ipython",
    "version": 3
   },
   "file_extension": ".py",
   "mimetype": "text/x-python",
   "name": "python",
   "nbconvert_exporter": "python",
   "pygments_lexer": "ipython3",
   "version": "3.7.4"
  }
 },
 "nbformat": 4,
 "nbformat_minor": 2
}
