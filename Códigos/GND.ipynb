{
 "cells": [
  {
   "cell_type": "code",
   "execution_count": 1,
   "metadata": {},
   "outputs": [],
   "source": [
    "# Algoritmo Generalized Network Dismantling (GND)\n",
    "### Sofía De la Mora Tostado \n",
    "### Tesis para las licienciaturas de Ciencia Política y Matemáticas Aplicadas\n",
    "## Inputs\n",
    "### A.- matriz de adyacencia\n",
    "### W.- matriz de costo de remoción de nodos (con los grados de los nodos)\n",
    "### B.- matriz de adyacencia con costos (Aij(wi+wj-1))\n",
    "### L.- matriz laplaciana con costos\n",
    "### Ol.- operador laplaciano \n",
    "##Output\n",
    "### C.- Costo acumulado de remoción\n",
    "### i.- nodo removido\n",
    "### S .- Tamaño del componente conectado mayor"
   ]
  },
  {
   "cell_type": "code",
   "execution_count": 2,
   "metadata": {},
   "outputs": [],
   "source": [
    "from sys import argv, stderr\n",
    "import networkx as nx\n",
    "from networkx.algorithms.approximation import min_weighted_vertex_cover\n",
    "from scipy.sparse.linalg import eigsh\n",
    "from scipy.sparse.linalg.eigen.arpack.arpack import ArpackNoConvergence\n",
    "from scipy.sparse import diags\n",
    "import numpy as np\n",
    "from numpy.random import shuffle\n",
    "#G = nx.read_edgelist(\"Datos.txt\", create_using = nx.Graph(), nodetype=int)"
   ]
  },
  {
   "cell_type": "code",
   "execution_count": 3,
   "metadata": {},
   "outputs": [
    {
     "name": "stdout",
     "output_type": "stream",
     "text": [
      "Ingresa el nombre del documento con los datos:  Datos.txt\n"
     ]
    }
   ],
   "source": [
    "red = input(\"Ingresa el nombre del documento con los datos:  \") "
   ]
  },
  {
   "cell_type": "code",
   "execution_count": 4,
   "metadata": {},
   "outputs": [
    {
     "name": "stdout",
     "output_type": "stream",
     "text": [
      "\n"
     ]
    }
   ],
   "source": [
    "G = nx.read_edgelist(red, create_using = nx.Graph(), nodetype=int)\n",
    "print(G)"
   ]
  },
  {
   "cell_type": "code",
   "execution_count": 5,
   "metadata": {},
   "outputs": [
    {
     "name": "stdout",
     "output_type": "stream",
     "text": [
      "34\n"
     ]
    }
   ],
   "source": [
    "##Tamaño del componente conectado con mayor tamaño\n",
    "def  Componente_mayor(G):\n",
    "\n",
    "    if len(G) == 0:\n",
    "        return 0\n",
    "\n",
    "    return max([len(n) for n in nx.connected_components(G)])"
   ]
  },
  {
   "cell_type": "code",
   "execution_count": null,
   "metadata": {},
   "outputs": [],
   "source": []
  }
 ],
 "metadata": {
  "kernelspec": {
   "display_name": "Python 3",
   "language": "python",
   "name": "python3"
  },
  "language_info": {
   "codemirror_mode": {
    "name": "ipython",
    "version": 3
   },
   "file_extension": ".py",
   "mimetype": "text/x-python",
   "name": "python",
   "nbconvert_exporter": "python",
   "pygments_lexer": "ipython3",
   "version": "3.7.4"
  }
 },
 "nbformat": 4,
 "nbformat_minor": 2
}
